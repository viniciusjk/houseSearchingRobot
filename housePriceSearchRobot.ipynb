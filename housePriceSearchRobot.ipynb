{
 "cells": [
  {
   "cell_type": "code",
   "execution_count": 3,
   "metadata": {},
   "outputs": [],
   "source": [
    "import requests\n",
    "from bs4 import BeautifulSoup\n",
    "\n",
    "url = 'https://www.vivareal.com.br/aluguel/sp/mogi-guacu/apartamento_residencial/?__vt=rpcp:b#onde=BR-Sao_Paulo-NULL-Mogi_Guacu&tipos=apartamento_residencial'\n",
    "headers = {'user-agent':'Mozilla/5.0 (Windows NT 10.0; Win64; x64) AppleWebKit/537.36 (KHTML, like Gecko) Chrome/79.0.3945.130 Safari/537.36 Edg/79.0.309.71'}\n",
    "dictData = {\n",
    "    'Titles': [],\n",
    "    'Links': [],\n",
    "    'Areas': [],\n",
    "    'Rooms': [],\n",
    "    'Bathrooms': [],\n",
    "    'Garages': [],\n",
    "    'Prices': []\n",
    "    }\n"
   ]
  },
  {
   "cell_type": "code",
   "execution_count": 4,
   "metadata": {},
   "outputs": [],
   "source": [
    "def scrapeVivaReal(url, headers, dictData):\n",
    "    \n",
    "    page = requests.get(url, headers=headers) \n",
    "    soup = BeautifulSoup(page.content, 'html.parser') \n",
    "\n",
    "    # Getting Links\n",
    "    links = soup.find_all('a', class_=\"property-card__main-link js-carousel-link\")  \n",
    "    links = ['https://vivareal.com.br'+l['href'] for l in links] \n",
    "\n",
    "    # Getting Titles\n",
    "    titles = soup.find_all(\"a\", {\"class\": \"property-card__title js-cardLink js-card-title\"})\n",
    "    titles = [t.get_text().strip() for t in titles]\n",
    "\n",
    "    #Getting Areas\n",
    "    areas = soup.find_all(\"span\", {\"class\": \"property-card__detail-value js-property-card-value property-card__detail-area js-property-card-detail-area\"})\n",
    "    areas = [a.get_text().strip() for a in areas]\n",
    "\n",
    "    # Getting Rooms\n",
    "    quartos = soup.find_all(\"li\", class_=\"property-card__detail-item property-card__detail-room js-property-detail-rooms\")\n",
    "    quartos = [q.find(\"span\").get_text().strip() for q in quartos]\n",
    "\n",
    "    # Getting Bathrooms\n",
    "    banheiros  = soup.find_all('li', class_=\"property-card__detail-item property-card__detail-bathroom js-property-detail-bathroom\")\n",
    "    banheiros = [b.span.get_text().strip() for b in banheiros]\n",
    "\n",
    "    # Getting Garages\n",
    "\n",
    "    garagem = soup.find_all('li', class_=\"property-card__detail-item property-card__detail-garage js-property-detail-garages\")\n",
    "    garagem = [g.span.get_text().strip() for g in garagem]\n",
    "\n",
    "    #Getting Price\n",
    "\n",
    "    prices = soup.find_all('div', class_=\"property-card__price js-property-card-prices js-property-card__price-small\")\n",
    "    prices = [p.get_text().strip()[0:p.get_text().strip().find('\\n')] for p in prices]\n",
    "\n",
    "    #Addtional prices\n",
    "    details = soup.find_all('footer', class_=\"property-card__price-details\") \n",
    "    details = [d.strong.get_text().strip() for d in details]\n",
    "\n",
    "    dictData['Titles'] = dictData['Titles'] + titles\n",
    "    dictData['Links'] = dictData['Links'] + links\n",
    "    dictData['Areas'] = dictData['Areas'] + areas\n",
    "    dictData['Rooms'] = dictData['Rooms'] + quartos\n",
    "    dictData['Bathrooms'] = dictData['Bathrooms'] + banheiros\n",
    "    dictData['Garages'] = dictData['Garages'] + garagem\n",
    "    dictData['Prices'] = dictData['Prices'] + prices\n",
    "    \n",
    "    return dictData, soup"
   ]
  },
  {
   "cell_type": "code",
   "execution_count": 5,
   "metadata": {},
   "outputs": [],
   "source": [
    "for i in range(1,4):\n",
    "    urlFirstHalf = 'https://www.vivareal.com.br/aluguel/sp/mogi-guacu/apartamento_residencial/?pagina='\n",
    "    urlSecondHalf = '&__vt=rpcp:b'\n",
    "    url = urlFirstHalf + str(i) + urlSecondHalf\n",
    "    dictData, soup = scrapeVivaReal(dictData=dictData, headers=headers, url=url)"
   ]
  },
  {
   "cell_type": "code",
   "execution_count": 6,
   "metadata": {},
   "outputs": [
    {
     "name": "stdout",
     "output_type": "stream",
     "text": [
      "Titles\n",
      "108\n",
      "Links\n",
      "108\n",
      "Areas\n",
      "108\n",
      "Rooms\n",
      "108\n",
      "Bathrooms\n",
      "108\n",
      "Garages\n",
      "108\n",
      "Prices\n",
      "108\n"
     ]
    }
   ],
   "source": [
    "for i in dictData.keys():\n",
    "    print (i)\n",
    "    print(len(dictData[i]))"
   ]
  },
  {
   "cell_type": "code",
   "execution_count": 7,
   "metadata": {},
   "outputs": [],
   "source": [
    "import pandas as pd\n",
    "df =  pd.DataFrame(dictData)"
   ]
  },
  {
   "cell_type": "code",
   "execution_count": 16,
   "metadata": {},
   "outputs": [
    {
     "data": {
      "text/plain": [
       "2.3055555555555554"
      ]
     },
     "execution_count": 16,
     "metadata": {},
     "output_type": "execute_result"
    }
   ],
   "source": [
    "df.Rooms.apply(float).mean()\n"
   ]
  },
  {
   "cell_type": "code",
   "execution_count": null,
   "metadata": {},
   "outputs": [],
   "source": []
  }
 ],
 "metadata": {
  "kernelspec": {
   "display_name": "Python 3",
   "language": "python",
   "name": "python3"
  },
  "language_info": {
   "codemirror_mode": {
    "name": "ipython",
    "version": 3
   },
   "file_extension": ".py",
   "mimetype": "text/x-python",
   "name": "python",
   "nbconvert_exporter": "python",
   "pygments_lexer": "ipython3",
   "version": "3.6.5"
  }
 },
 "nbformat": 4,
 "nbformat_minor": 2
}
