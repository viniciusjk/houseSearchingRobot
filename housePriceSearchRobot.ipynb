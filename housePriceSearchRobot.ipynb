{
 "cells": [
  {
   "cell_type": "code",
   "execution_count": 18,
   "metadata": {},
   "outputs": [
    {
     "data": {
      "text/plain": [
       "<bound method Tag.prettify of <!DOCTYPE html>\n",
       "\n",
       "<!--[if lt IE 7]> <html class=\"no-js ie6 oldie\" lang=\"en-US\"> <![endif]-->\n",
       "<!--[if IE 7]>    <html class=\"no-js ie7 oldie\" lang=\"en-US\"> <![endif]-->\n",
       "<!--[if IE 8]>    <html class=\"no-js ie8 oldie\" lang=\"en-US\"> <![endif]-->\n",
       "<!--[if gt IE 8]><!--> <html class=\"no-js\" lang=\"en-US\"> <!--<![endif]-->\n",
       "<head>\n",
       "<title>Attention Required! | Cloudflare</title>\n",
       "<meta charset=\"utf-8\"/>\n",
       "<meta content=\"text/html; charset=utf-8\" http-equiv=\"Content-Type\"/>\n",
       "<meta content=\"IE=Edge,chrome=1\" http-equiv=\"X-UA-Compatible\"/>\n",
       "<meta content=\"noindex, nofollow\" name=\"robots\"/>\n",
       "<meta content=\"width=device-width,initial-scale=1,maximum-scale=1\" name=\"viewport\"/>\n",
       "<link href=\"/cdn-cgi/styles/cf.errors.css\" id=\"cf_styles-css\" media=\"screen,projection\" rel=\"stylesheet\" type=\"text/css\"/>\n",
       "<!--[if lt IE 9]><link rel=\"stylesheet\" id='cf_styles-ie-css' href=\"/cdn-cgi/styles/cf.errors.ie.css\" type=\"text/css\" media=\"screen,projection\" /><![endif]-->\n",
       "<style type=\"text/css\">body{margin:0;padding:0}</style>\n",
       "<!--[if gte IE 10]><!--><script src=\"/cdn-cgi/scripts/zepto.min.js\" type=\"text/javascript\"></script><!--<![endif]-->\n",
       "<!--[if gte IE 10]><!--><script src=\"/cdn-cgi/scripts/cf.common.js\" type=\"text/javascript\"></script><!--<![endif]-->\n",
       "</head>\n",
       "<body>\n",
       "<div id=\"cf-wrapper\">\n",
       "<div class=\"cf-alert cf-alert-error cf-cookie-error\" data-translate=\"enable_cookies\" id=\"cookie-alert\">Please enable cookies.</div>\n",
       "<div class=\"cf-error-details-wrapper\" id=\"cf-error-details\">\n",
       "<div class=\"cf-wrapper cf-header cf-error-overview\">\n",
       "<h1 data-translate=\"block_headline\">Sorry, you have been blocked</h1>\n",
       "<h2 class=\"cf-subheadline\"><span data-translate=\"unable_to_access\">You are unable to access</span> vivareal.com.br</h2>\n",
       "</div><!-- /.header -->\n",
       "<div class=\"cf-section cf-highlight\">\n",
       "<div class=\"cf-wrapper\">\n",
       "<div class=\"cf-screenshot-container cf-screenshot-full\">\n",
       "<span class=\"cf-no-screenshot error\"></span>\n",
       "</div>\n",
       "</div>\n",
       "</div><!-- /.captcha-container -->\n",
       "<div class=\"cf-section cf-wrapper\">\n",
       "<div class=\"cf-columns two\">\n",
       "<div class=\"cf-column\">\n",
       "<h2 data-translate=\"blocked_why_headline\">Why have I been blocked?</h2>\n",
       "<p data-translate=\"blocked_why_detail\">This website is using a security service to protect itself from online attacks. The action you just performed triggered the security solution. There are several actions that could trigger this block including submitting a certain word or phrase, a SQL command or malformed data.</p>\n",
       "</div>\n",
       "<div class=\"cf-column\">\n",
       "<h2 data-translate=\"blocked_resolve_headline\">What can I do to resolve this?</h2>\n",
       "<p data-translate=\"blocked_resolve_detail\">You can email the site owner to let them know you were blocked. Please include what you were doing when this page came up and the Cloudflare Ray ID found at the bottom of this page.</p>\n",
       "</div>\n",
       "</div>\n",
       "</div><!-- /.section -->\n",
       "<div class=\"cf-error-footer cf-wrapper\">\n",
       "<p>\n",
       "<span class=\"cf-footer-item\">Cloudflare Ray ID: <strong>558acabe9dd0f203</strong></span>\n",
       "<span class=\"cf-footer-separator\">•</span>\n",
       "<span class=\"cf-footer-item\"><span>Your IP</span>: 32.104.18.202</span>\n",
       "<span class=\"cf-footer-separator\">•</span>\n",
       "<span class=\"cf-footer-item\"><span>Performance &amp; security by</span> <a href=\"https://www.cloudflare.com/5xx-error-landing?utm_source=error_footer\" id=\"brand_link\" target=\"_blank\">Cloudflare</a></span>\n",
       "<span class=\"cf-footer-separator\">•</span>\n",
       "<span class=\"cf-footer-item\">\n",
       "<select id=\"lang-selector\">\n",
       "<option value=\"\">Select a Language</option>\n",
       "<option value=\"en\">English</option>\n",
       "<option value=\"es\">Español</option>\n",
       "</select>\n",
       "</span>\n",
       "</p>\n",
       "</div><!-- /.error-footer -->\n",
       "</div><!-- /#cf-error-details -->\n",
       "</div><!-- /#cf-wrapper -->\n",
       "<script type=\"text/javascript\">\n",
       "  window._cf_translation = {};\n",
       "  window._cf_translation.locale = 'en';\n",
       "  window._cf_translation.blobs = {};\n",
       "</script>\n",
       "</body>\n",
       "</html>\n",
       ">"
      ]
     },
     "execution_count": 18,
     "metadata": {},
     "output_type": "execute_result"
    }
   ],
   "source": [
    "import requests\n",
    "from bs4 import BeautifulSoup\n",
    "url = 'https://www.vivareal.com.br/aluguel/sp/mogi-guacu/apartamento_residencial/?__vt=rnk_gz:rescore_default#__vt=rnk_gz:rescore_default&onde=BR-Sao_Paulo-NULL-Mogi_Guacu&tipos=apartamento_residencial'\n",
    "page = requests.get(url) \n",
    "soup = BeautifulSoup(page.content, 'html.parser') \n",
    "\n",
    "soup.find_all('a', class_=\"property-card__main-link js-carousel-link\") \n",
    "soup.prettify"
   ]
  },
  {
   "cell_type": "code",
   "execution_count": 12,
   "metadata": {},
   "outputs": [
    {
     "name": "stdout",
     "output_type": "stream",
     "text": [
      "[]\n"
     ]
    }
   ],
   "source": [
    "# Getting Links\n",
    "links = soup.find_all('a', class_=\"property-card__main-link js-carousel-link\")  \n",
    "links = ['https://vivareal.com.br'+l['href'] for l in links] \n",
    "\n",
    "# Getting Titles\n",
    "titles = soup.find_all(\"a\", {\"class\": \"property-card__title js-cardLink js-card-title\"})\n",
    "titles = [t.get_text().strip() for t in titles]\n",
    "\n",
    "#Getting Areas\n",
    "areas = soup.find_all(\"span\", {\"class\": \"property-card__detail-value js-property-card-value property-card__detail-area js-property-card-detail-area\"})\n",
    "areas = [a.get_text().strip() for a in areas]\n",
    "\n",
    "# Getting Rooms\n",
    "quartos = soup.find_all(\"li\", class_=\"property-card__detail-item property-card__detail-room js-property-detail-rooms\")\n",
    "quartos = [q.find(\"span\").get_text().strip() for q in quartos]\n",
    "\n",
    "# Getting Bathrooms\n",
    "banheiros  = soup.find_all('li', class_=\"property-card__detail-item property-card__detail-bathroom js-property-detail-bathroom\")\n",
    "banheiros = [b.span.get_text().strip() for b in banheiros]\n",
    "\n",
    "# Getting Garages\n",
    "\n",
    "garagem = soup.find_all('li', class_=\"property-card__detail-item property-card__detail-garage js-property-detail-garages\")\n",
    "garagem = [g.span.get_text().strip() for g in garagem]\n",
    "\n",
    "#Getting Price\n",
    "\n",
    "prices = soup.find_all('div', class_=\"property-card__price js-property-card-prices js-property-card__price-small\")\n",
    "prices = [p.get_text().strip()[0:p.get_text().strip().find('\\n')] for p in prices]\n",
    "\n",
    "#Addtional prices\n",
    "details = soup.find_all('footer', class_=\"property-card__price-details\") \n",
    "details = [d.strong.get_text().strip() for d in details]\n",
    "\n",
    "dictData = \t{'Titles': titles,\n",
    "'Areas': areas,\n",
    "'Rooms': quartos,\n",
    "'Bathrooms': banheiros,\n",
    "'Garages': garagem,\n",
    "'Prices': prices\n",
    "}\n"
   ]
  },
  {
   "cell_type": "code",
   "execution_count": 9,
   "metadata": {},
   "outputs": [
    {
     "data": {
      "text/plain": [
       "[]"
      ]
     },
     "execution_count": 9,
     "metadata": {},
     "output_type": "execute_result"
    }
   ],
   "source": [
    "details"
   ]
  },
  {
   "cell_type": "code",
   "execution_count": null,
   "metadata": {},
   "outputs": [],
   "source": []
  }
 ],
 "metadata": {
  "kernelspec": {
   "display_name": "Python 3",
   "language": "python",
   "name": "python3"
  },
  "language_info": {
   "codemirror_mode": {
    "name": "ipython",
    "version": 3
   },
   "file_extension": ".py",
   "mimetype": "text/x-python",
   "name": "python",
   "nbconvert_exporter": "python",
   "pygments_lexer": "ipython3",
   "version": "3.6.5"
  }
 },
 "nbformat": 4,
 "nbformat_minor": 2
}
